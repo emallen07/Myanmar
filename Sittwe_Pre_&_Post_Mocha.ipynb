{
  "nbformat": 4,
  "nbformat_minor": 0,
  "metadata": {
    "colab": {
      "private_outputs": true,
      "provenance": [],
      "authorship_tag": "ABX9TyOsdKCqim5SXxQnAOmhE+td",
      "include_colab_link": true
    },
    "kernelspec": {
      "name": "python3",
      "display_name": "Python 3"
    },
    "language_info": {
      "name": "python"
    }
  },
  "cells": [
    {
      "cell_type": "markdown",
      "metadata": {
        "id": "view-in-github",
        "colab_type": "text"
      },
      "source": [
        "<a href=\"https://colab.research.google.com/github/emallen07/Myanmar/blob/main/Sittwe_Pre_%26_Post_Mocha.ipynb\" target=\"_parent\"><img src=\"https://colab.research.google.com/assets/colab-badge.svg\" alt=\"Open In Colab\"/></a>"
      ]
    },
    {
      "cell_type": "code",
      "execution_count": null,
      "metadata": {
        "collapsed": true,
        "id": "OBE-xdO-7Ri3"
      },
      "outputs": [],
      "source": [
        " !pip install -U leafmap geopandas"
      ]
    },
    {
      "cell_type": "code",
      "source": [
        "import leafmap\n",
        "import geopandas as gpd"
      ],
      "metadata": {
        "id": "YljEmNFB7Vgf"
      },
      "execution_count": null,
      "outputs": []
    },
    {
      "cell_type": "code",
      "source": [
        "leafmap.maxar_collections()"
      ],
      "metadata": {
        "collapsed": true,
        "id": "lkWyepCt7XGJ"
      },
      "execution_count": null,
      "outputs": []
    },
    {
      "cell_type": "code",
      "source": [
        "collection = \"BayofBengal-Cyclone-Mocha-May-23\"\n",
        "url = leafmap.maxar_collection_url(collection, dtype=\"geojson\")\n",
        "url"
      ],
      "metadata": {
        "id": "wFNlGbUT7kfq"
      },
      "execution_count": null,
      "outputs": []
    },
    {
      "cell_type": "code",
      "source": [
        "gdf = gpd.read_file(url)\n",
        "print(f\"Total number of images: {len(gdf)}\")\n",
        "gdf.head()"
      ],
      "metadata": {
        "collapsed": true,
        "id": "OKNA633Z7vDo"
      },
      "execution_count": null,
      "outputs": []
    },
    {
      "cell_type": "code",
      "source": [
        "m = leafmap.Map()\n",
        "m.add_gdf(gdf, layer_name=\"Footprints\")\n",
        "m"
      ],
      "metadata": {
        "id": "NDSmHQpD8Lwv"
      },
      "execution_count": null,
      "outputs": []
    },
    {
      "cell_type": "code",
      "source": [
        "pre_gdf = leafmap.maxar_search(collection, end_date=\"2023-05-14\")\n",
        "print(f\"Total number of pre-event images: {len(pre_gdf)}\")\n",
        "pre_gdf.head()"
      ],
      "metadata": {
        "collapsed": true,
        "id": "UKpDGYSo71_A"
      },
      "execution_count": null,
      "outputs": []
    },
    {
      "cell_type": "code",
      "source": [
        "post_gdf = leafmap.maxar_search(collection, start_date=\"2023-05-14\")\n",
        "print(f\"Total number of post-event images: {len(post_gdf)}\")\n",
        "post_gdf.head()"
      ],
      "metadata": {
        "collapsed": true,
        "id": "9ZDOdKRX8QwT"
      },
      "execution_count": null,
      "outputs": []
    },
    {
      "cell_type": "code",
      "source": [
        "m = leafmap.Map()\n",
        "pre_style = {\"color\": \"red\", \"fillColor\": \"red\", \"opacity\": 1, \"fillOpacity\": 0.5}\n",
        "m.add_gdf(pre_gdf, layer_name=\"Pre-event\", style=pre_style, info_mode=\"on_click\")\n",
        "m.add_gdf(post_gdf, layer_name=\"Post-event\", info_mode=\"on_click\")\n",
        "m"
      ],
      "metadata": {
        "id": "pi1MrDME8qHK"
      },
      "execution_count": null,
      "outputs": []
    },
    {
      "cell_type": "code",
      "source": [
        "bbox = m.user_roi_bounds()\n",
        "if bbox is None:\n",
        "    bbox = [92.819366,20.106234,92.943649,20.185524]"
      ],
      "metadata": {
        "id": "hxWcxANu8xbO"
      },
      "execution_count": null,
      "outputs": []
    },
    {
      "cell_type": "code",
      "source": [
        "pre_event = leafmap.maxar_search(collection, bbox=bbox, end_date=\"2023-05-14\")\n",
        "pre_event.head()"
      ],
      "metadata": {
        "collapsed": true,
        "id": "it0LAFbn_rVZ"
      },
      "execution_count": null,
      "outputs": []
    },
    {
      "cell_type": "code",
      "source": [
        "post_event = leafmap.maxar_search(collection, bbox=bbox, start_date=\"2023-05-14\")\n",
        "post_event.head()"
      ],
      "metadata": {
        "collapsed": true,
        "id": "cqEV7daNE9OI"
      },
      "execution_count": null,
      "outputs": []
    },
    {
      "cell_type": "code",
      "source": [
        "pre_tile = pre_event[\"catalog_id\"].values[0]\n",
        "pre_tile"
      ],
      "metadata": {
        "id": "hzVBHfs3FESn"
      },
      "execution_count": null,
      "outputs": []
    },
    {
      "cell_type": "code",
      "source": [
        "post_tile = post_event[\"catalog_id\"].values[0]\n",
        "post_tile"
      ],
      "metadata": {
        "id": "x6yFhYsuFHJq"
      },
      "execution_count": null,
      "outputs": []
    },
    {
      "cell_type": "code",
      "source": [
        "pre_stac = leafmap.maxar_tile_url(collection, pre_tile, dtype=\"json\")\n",
        "pre_stac"
      ],
      "metadata": {
        "id": "A8p2i7wxFKIr"
      },
      "execution_count": null,
      "outputs": []
    },
    {
      "cell_type": "code",
      "source": [
        "post_stac = leafmap.maxar_tile_url(collection, post_tile, dtype=\"json\")\n",
        "post_stac"
      ],
      "metadata": {
        "id": "AWFnSdgdFMBz"
      },
      "execution_count": null,
      "outputs": []
    },
    {
      "cell_type": "code",
      "source": [
        "import leafmap.foliumap as leafmap"
      ],
      "metadata": {
        "id": "MUkWwRKsFO5S"
      },
      "execution_count": null,
      "outputs": []
    },
    {
      "cell_type": "code",
      "source": [
        "m = leafmap.Map()\n",
        "m.split_map(\n",
        "    left_layer=pre_stac,\n",
        "    right_layer=post_stac,\n",
        "    left_label=\"Pre-event\",\n",
        "    right_label=\"Post-event\",\n",
        ")\n",
        "m.set_center(92.857990,20.174567, 14)\n",
        "m"
      ],
      "metadata": {
        "id": "JjkW_2m2FRai"
      },
      "execution_count": null,
      "outputs": []
    },
    {
      "cell_type": "code",
      "source": [
        "pre_images = pre_event[\"visual\"].tolist()\n",
        "post_images = post_event[\"visual\"].tolist()"
      ],
      "metadata": {
        "id": "hBuyeA3IFgl5"
      },
      "execution_count": null,
      "outputs": []
    },
    {
      "cell_type": "code",
      "source": [
        "dir(leafmap)\n"
      ],
      "metadata": {
        "collapsed": true,
        "id": "yC9KVknpHsEN"
      },
      "execution_count": null,
      "outputs": []
    },
    {
      "cell_type": "code",
      "source": [
        "print(pre_images)"
      ],
      "metadata": {
        "id": "mBfrEY1OcmRr"
      },
      "execution_count": null,
      "outputs": []
    },
    {
      "cell_type": "code",
      "source": [
        "print(post_images)"
      ],
      "metadata": {
        "id": "mupy7KDzcrWG"
      },
      "execution_count": null,
      "outputs": []
    }
  ]
}